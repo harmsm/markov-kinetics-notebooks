{
 "cells": [
  {
   "cell_type": "markdown",
   "metadata": {},
   "source": [
    "# Simple transition matrix calculations\n",
    "\n",
    "## Instructions\n",
    "\n",
    " + To run a cell, click on it and hit the `Run` button above.\n",
    " + Before running any of the main cells, click on the cell starting with `%matplotlib inline`\n",
    "   and hit `Run`.\n",
    " + If something wonky is happening and you want to reset, go to `Kernel->Restart`"
   ]
  },
  {
   "cell_type": "markdown",
   "metadata": {},
   "source": [
    "#### Import python modules"
   ]
  },
  {
   "cell_type": "code",
   "execution_count": null,
   "metadata": {},
   "outputs": [],
   "source": [
    "%matplotlib inline\n",
    "from matplotlib import pyplot as plt\n",
    "\n",
    "import numpy as np\n",
    "import markov_model"
   ]
  },
  {
   "cell_type": "markdown",
   "metadata": {},
   "source": [
    "## Primer\n",
    "\n",
    "#### Define a reaction and load into markov_model"
   ]
  },
  {
   "cell_type": "code",
   "execution_count": null,
   "metadata": {},
   "outputs": [],
   "source": [
    "# Define the reaction\n",
    "reactions = \\\n",
    "\"\"\"\n",
    "A = 5\n",
    "B = 0 \n",
    "A -> B 100\n",
    "B -> A 10\n",
    "\"\"\"       \n",
    "\n",
    "# Load the reaction into a transition matrix\n",
    "r = markov_model.ReactionSimulator()\n",
    "r.load_rxn(reactions)\n",
    "\n",
    "# Show the important pieces describing the reaction\n",
    "print(r.species)\n",
    "print(r.T)\n",
    "print(r.conc)\n",
    "print(r.dt)\n"
   ]
  },
  {
   "cell_type": "markdown",
   "metadata": {},
   "source": [
    "#### Run the reation for one time step"
   ]
  },
  {
   "cell_type": "code",
   "execution_count": null,
   "metadata": {},
   "outputs": [],
   "source": [
    "np.dot(r.T,r.conc)"
   ]
  },
  {
   "cell_type": "markdown",
   "metadata": {},
   "source": [
    "#### Run the reaction for ten time steps"
   ]
  },
  {
   "cell_type": "code",
   "execution_count": null,
   "metadata": {},
   "outputs": [],
   "source": [
    "n = 10\n",
    "t_n = np.linalg.matrix_power(r.T,n)\n",
    "np.dot(t_n,r.conc)"
   ]
  },
  {
   "cell_type": "markdown",
   "metadata": {},
   "source": [
    "#### Automagically 100 steps run and create a plot"
   ]
  },
  {
   "cell_type": "code",
   "execution_count": null,
   "metadata": {},
   "outputs": [],
   "source": [
    "markov_model.run_and_plot(r,num_steps=100)"
   ]
  },
  {
   "cell_type": "markdown",
   "metadata": {},
   "source": [
    "## Workspace\n",
    "\n",
    "You can do any work you want to do here.  If you want to make multiple versions of this cell, click `Edit->Copy Cells` and then `Edit->Paste Cells Below`.  "
   ]
  },
  {
   "cell_type": "code",
   "execution_count": null,
   "metadata": {},
   "outputs": [],
   "source": [
    "# Modify this string to change the reaction. You can add\n",
    "# as many lines as you want.\n",
    "reactions = \\\n",
    "\"\"\"\n",
    "A = 5\n",
    "B = 0 \n",
    "A -> B 100\n",
    "B -> A 10\n",
    "\"\"\"            \n",
    "                \n",
    "r = markov_model.ReactionSimulator()\n",
    "r.load_rxn(reactions)\n",
    "\n",
    "\n",
    "# If you want to run the reaction a set number of times\n",
    "n = 10\n",
    "t_n = np.linalg.matrix_power(r.T,n)\n",
    "print(r.species)\n",
    "print(np.dot(t_n,r.conc))\n",
    "\n",
    "# Generate a graph (you can save to your computer by right-clicking on\n",
    "# the graph and going to \"save image\"))\n",
    "markov_model.run_and_plot(r,num_steps=100)"
   ]
  },
  {
   "cell_type": "code",
   "execution_count": null,
   "metadata": {},
   "outputs": [],
   "source": []
  }
 ],
 "metadata": {
  "kernelspec": {
   "display_name": "Python 3",
   "language": "python",
   "name": "python3"
  },
  "language_info": {
   "codemirror_mode": {
    "name": "ipython",
    "version": 3
   },
   "file_extension": ".py",
   "mimetype": "text/x-python",
   "name": "python",
   "nbconvert_exporter": "python",
   "pygments_lexer": "ipython3",
   "version": "3.6.6"
  }
 },
 "nbformat": 4,
 "nbformat_minor": 2
}
